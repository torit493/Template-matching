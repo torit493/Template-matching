{
 "cells": [
  {
   "attachments": {},
   "cell_type": "markdown",
   "id": "db31650e-1e04-443a-8df3-421ddca60425",
   "metadata": {},
   "source": [
    "# Manual ground truth"
   ]
  },
  {
   "cell_type": "code",
   "execution_count": 1,
   "id": "11efbadf-70d7-43d6-b728-832d0494cf20",
   "metadata": {},
   "outputs": [
    {
     "name": "stderr",
     "output_type": "stream",
     "text": [
      "WARNING:silx.opencl.common:Unable to import pyOpenCl. Please install it from: https://pypi.org/project/pyopencl\n"
     ]
    }
   ],
   "source": [
    "%matplotlib inline\n",
    "\n",
    "import hyperspy as hs\n",
    "import pyxem as px\n",
    "from matplotlib import pyplot as plt\n",
    "import numpy as np\n",
    "import os\n",
    "from tqdm import tqdm\n",
    "from skimage import restoration\n",
    "from matplotlib.colors import LogNorm\n",
    "\n",
    "from numpy import log10\n",
    "\n",
    "from scipy.ndimage import binary_fill_holes, label\n",
    "from scipy import ndimage as ndi\n",
    "from scipy.ndimage import gaussian_filter\n",
    "\n",
    "from skimage.feature import peak_local_max\n",
    "from skimage import data\n",
    "from skimage import img_as_float\n",
    "from skimage.morphology import reconstruction\n",
    "from skimage.measure import label, regionprops\n",
    "from skimage.segmentation import watershed\n",
    "from skimage.filters import sobel, threshold_triangle, threshold_li"
   ]
  },
  {
   "cell_type": "markdown",
   "id": "924fb6d8-162c-4314-9e96-2fd81d0cc463",
   "metadata": {},
   "source": [
    "## Load dataset"
   ]
  },
  {
   "cell_type": "code",
   "execution_count": 2,
   "id": "1cf476b6-2457-42a2-85c8-4b8404759fd0",
   "metadata": {},
   "outputs": [
    {
     "data": {
      "text/plain": [
       "0.01904"
      ]
     },
     "execution_count": 2,
     "metadata": {},
     "output_type": "execute_result"
    }
   ],
   "source": [
    "signal = hs.io.load('SPED_600x600x12_10x10_4p63x4p63_1deg_100Hz_CL12cm_NBD_alpha5_spot1p3_preprocessed_crop100.hdf5')\n",
    "DP_scale = signal.axes_manager[2].scale\n",
    "DP_scale"
   ]
  },
  {
   "attachments": {},
   "cell_type": "markdown",
   "id": "8636ac13-eac7-4455-9c31-e0bc9052e11f",
   "metadata": {},
   "source": [
    "## Create ground truth from manual virtual dark field analysis"
   ]
  },
  {
   "cell_type": "markdown",
   "id": "0e70426e-024c-4eee-a91d-9a5dae8f59da",
   "metadata": {},
   "source": [
    "#### Make Precipitate object"
   ]
  },
  {
   "cell_type": "code",
   "execution_count": 3,
   "id": "0d4bc5ca-7a36-46bf-923c-b9edf12ed019",
   "metadata": {},
   "outputs": [],
   "source": [
    "from scipy.ndimage import label\n",
    "import copy\n",
    "\n",
    "#Creating empty dataset for variables in Precipitates() and also combined ground truth map eventually\n",
    "empty_vdf = signal.get_integrated_intensity(hs.roi.CircleROI(cx=0, cy=0, r=0.5)).data.copy()\n",
    "empty_vdf[empty_vdf > 0] = 0 \n",
    "\n",
    "class Precipitate():\n",
    "    name = \"\"\n",
    "    th = 0\n",
    "    roi = hs.roi.CircleROI(cx=0, cy=0, r=0, r_inner=0)\n",
    "    roi2 = hs.roi.CircleROI(cx=0, cy=0, r=0, r_inner=0)\n",
    "    label_th = 0\n",
    "    vdf = empty_vdf.copy()\n",
    "    vdf_mask = empty_vdf.copy()\n",
    "    label, _ = label(vdf_mask)\n",
    "\n",
    "    def __init__(self, name, th, label_th, roi):\n",
    "        self.name = name\n",
    "        self.th = th\n",
    "        self.roi = roi\n",
    "        self.label_th = label_th\n",
    "\n",
    "def make_precip(name, th, label_th, roi):\n",
    "    precipitate = Precipitate(name, th, label_th, roi)\n",
    "    return precipitate\n",
    "def make_precip2(name, th, label_th, roi, roi2):\n",
    "    precipitate = Precipitate(name, th, label_th, roi)\n",
    "    precipitate.roi2 = roi2\n",
    "    return precipitate"
   ]
  },
  {
   "cell_type": "code",
   "execution_count": 4,
   "id": "9c00d7af-4027-4ddd-954e-5b08f6f0dcc3",
   "metadata": {},
   "outputs": [],
   "source": [
    "#In plane theta'. Used two reflections for better signal \n",
    "roi_thetaPrimes = hs.roi.CircleROI(cx=-0.114238, cy=0.323675, r=0.0475943, r_inner=0)\n",
    "roi_thetaPrimes2 = hs.roi.CircleROI(cx=0.323675, cy=0.0761587, r=0.0475943, r_inner=0)\n",
    "\n",
    "#fat horizontals (T1)\n",
    "roi_h = hs.roi.CircleROI(cx=-0.47124, cy=-0.14756, r=0.02856, r_inner=0)\n",
    "\n",
    "#fat verticals (T1)\n",
    "roi_v = hs.roi.CircleROI(cx=0.119, cy=-0.47124, r=0.02856, r_inner=0)\n",
    "\n",
    "#left angled (thetaPrime, (200)_[010])\n",
    "roi_la = hs.roi.CircleROI(cx=0.2142, cy=0.13804, r=0.0476, r_inner=0)\n",
    "\n",
    "#right angled (thetaPrime, (020)_[100])\n",
    "roi_ra = hs.roi.CircleROI(cx=0.13328, cy=-0.2856, r=0.0476, r_inner=0)\n",
    "\n",
    "#--------------------------------------------------------------------------------------------#\n",
    "#       inputs        |      name       |  th, | label_th,|      roi,     |     roi2         #\n",
    "#--------------------------------------------------------------------------------------------#\n",
    "Theta_3 =make_precip2(\"Theta, in-plane\", 0.2,      782,    roi_thetaPrimes, roi_thetaPrimes2)#\n",
    "T1_1    = Precipitate(\"T1, horizontal\",  0.0138,    28,          roi_h )                     #\n",
    "T1_2    = Precipitate(\"T1, vertical\",    0.014,     28,          roi_v )                     #\n",
    "Theta_1 = Precipitate(\"Theta, lefty\",    0.12,       7,          roi_la)                     #\n",
    "Theta_2 = Precipitate(\"Theta, righty\",   0.17,       5,          roi_ra)                     #\n",
    "#--------------------------------------------------------------------------------------------#\n",
    "\n",
    "#list:\n",
    "precips   = np.asarray([Theta_3, T1_1, T1_2, Theta_1, Theta_2])\n",
    "numbering = np.asarray([   2,     3,     3,     1,       1   ])"
   ]
  },
  {
   "cell_type": "code",
   "execution_count": 5,
   "id": "fe134bd0-e8d2-4dd0-8b4f-12b1b68d3f3b",
   "metadata": {},
   "outputs": [],
   "source": [
    "for precip in precips:\n",
    "    if (precip.name != \"Theta, in-plane\"): #in plane theta use two rois\n",
    "        precip.vdf = signal.get_integrated_intensity(precip.roi)\n",
    "    else:\n",
    "        precip.vdf = signal.get_integrated_intensity(precip.roi) + signal.get_integrated_intensity(precip.roi2)"
   ]
  },
  {
   "cell_type": "markdown",
   "id": "e7a6316a-c2b5-487c-9448-2a6374a24303",
   "metadata": {},
   "source": [
    "#### Create masks where you remove everything below certain threshold"
   ]
  },
  {
   "cell_type": "code",
   "execution_count": 6,
   "id": "518b240a-07dd-42fa-80ad-91d0e1139d3c",
   "metadata": {},
   "outputs": [],
   "source": [
    "for i, precip in enumerate(precips):\n",
    "    if (precip.name != \"Theta, in-plane\"):\n",
    "        vdf_mask = precip.vdf.data.copy()\n",
    "        vdf_mask[vdf_mask < precip.th] = 0\n",
    "        vdf_mask[vdf_mask > 0 ] = numbering[i]\n",
    "        precip.vdf_mask = vdf_mask\n",
    "\n",
    "    else:\n",
    "        ### Need to remove edge on theta from in plane theta:\n",
    "        vdf_mask_la = precips[3].vdf.data.copy()\n",
    "        vdf_mask_la[vdf_mask_la < precips[3].th] = 0 # 3= left angle theta needles (see parameters for precips)\n",
    "        vdf_mask_la[vdf_mask_la > 0] = 1\n",
    "\n",
    "        vdf_mask_ra = precips[4].vdf.data.copy()\n",
    "        vdf_mask_ra[vdf_mask_ra < precips[4].th] = 0 # 4 = righ angle theta needles\n",
    "        vdf_mask_ra[vdf_mask_ra > 0] = 1\n",
    "\n",
    "        #Adding unwanted thetas to one mask and setting any potential 2 = 1\n",
    "        combined_mask = vdf_mask_la + vdf_mask_ra\n",
    "        combined_mask[combined_mask > 0] = 1 # All needle pix should be 1\n",
    "        #### ----- ###\n",
    "\n",
    "        vdf_mask = precip.vdf.data.copy()\n",
    "        vdf_mask[vdf_mask < precip.th] = 0\n",
    "        vdf_mask[vdf_mask > 0 ] = numbering[i]\n",
    "\n",
    "        # Removing other oriientations from map\n",
    "        vdf_mask[vdf_mask == combined_mask*2] = 0\n",
    "        precip.vdf_mask = vdf_mask"
   ]
  },
  {
   "cell_type": "markdown",
   "id": "fe950bbe-fdb0-4e99-9fdd-4b9cf114d30a",
   "metadata": {},
   "source": [
    "#### Use label from scipy to remove noise"
   ]
  },
  {
   "cell_type": "code",
   "execution_count": 7,
   "id": "14ab7799-6726-4e87-80d5-ec5afd719870",
   "metadata": {},
   "outputs": [],
   "source": [
    "from scipy.ndimage import label\n",
    "\n",
    "for precip in precips:\n",
    "    # Labels groups of pixels by size\n",
    "    precip.label = label(precip.vdf_mask)[0]\n",
    "    for i in np.arange(1, np.max(precip.label)):\n",
    "        # Everything below label_th size concidered noise and removed:\n",
    "        if np.sum(precip.label[precip.label == i])/i < precip.label_th: \n",
    "            precip.vdf_mask[precip.label == i] = 0"
   ]
  },
  {
   "cell_type": "markdown",
   "id": "2d4d4a03-2c59-4af8-b576-e1578c558f8d",
   "metadata": {},
   "source": [
    "#### Now combine all masks to ground truth"
   ]
  },
  {
   "cell_type": "code",
   "execution_count": 8,
   "id": "a99b8719-9ca4-4b88-a8bf-2beef1c37c38",
   "metadata": {},
   "outputs": [
    {
     "data": {
      "image/png": "[encoded data removed]",
      "text/plain": [
       "<Figure size 432x392.727 with 1 Axes>"
      ]
     },
     "metadata": {},
     "output_type": "display_data"
    }
   ],
   "source": [
    "ground_truth = empty_vdf.copy()\n",
    "\n",
    "for i, precip in enumerate(precips):\n",
    "    precip = precip\n",
    "    ground_truth[precip.vdf_mask == numbering[i]] = numbering[i]\n",
    "\n",
    "ground_truth = hs.signals.BaseSignal(ground_truth)\n",
    "ground_truth.axes_manager[0].scale = 4.63\n",
    "ground_truth.axes_manager[1].scale = 4.63\n",
    "ground_truth.axes_manager[0].units = 'nm'\n",
    "ground_truth.axes_manager[1].units = 'nm'\n",
    "\n",
    "from matplotlib.colors import to_rgba\n",
    "from matplotlib.colors import LinearSegmentedColormap\n",
    "\n",
    "color_names = ['linen', 'darkorange', 'dodgerblue', 'forestgreen']\n",
    "colors = [to_rgba(c) for c in color_names]\n",
    "\n",
    "cmap = LinearSegmentedColormap.from_list('gt_cmap', colors, N=len(color_names))\n",
    "\n",
    "ground_truth.plot(cmap=cmap, colorbar=False)"
   ]
  }
 ],
 "metadata": {
  "kernelspec": {
   "display_name": "Python 3 (ipykernel)",
   "language": "python",
   "name": "python3"
  },
  "language_info": {
   "codemirror_mode": {
    "name": "ipython",
    "version": 3
   },
   "file_extension": ".py",
   "mimetype": "text/x-python",
   "name": "python",
   "nbconvert_exporter": "python",
   "pygments_lexer": "ipython3",
   "version": "3.8.13"
  },
  "vscode": {
   "interpreter": {
    "hash": "223e676380d4df3d50271949191e69bd32ffbc661fbf2cd3a37d125a87fc0e0c"
   }
  }
 },
 "nbformat": 4,
 "nbformat_minor": 5
}
