{
 "cells": [
  {
   "cell_type": "markdown",
   "id": "db31650e-1e04-443a-8df3-421ddca60425",
   "metadata": {},
   "source": [
    "# Ground truth"
   ]
  },
  {
   "cell_type": "markdown",
   "id": "780a386f-2c3b-4f6e-9036-dbc9eaa0e229",
   "metadata": {},
   "source": [
    "Three different ground truths were prepared by three different people and then compared to increase the reliability of the ground truth."
   ]
  },
  {
   "cell_type": "code",
   "execution_count": 1,
   "id": "11efbadf-70d7-43d6-b728-832d0494cf20",
   "metadata": {},
   "outputs": [
    {
     "name": "stderr",
     "output_type": "stream",
     "text": [
      "WARNING:silx.opencl.common:Unable to import pyOpenCl. Please install it from: https://pypi.org/project/pyopencl\n"
     ]
    }
   ],
   "source": [
    "%matplotlib tk\n",
    "\n",
    "import hyperspy as hs\n",
    "import pyxem as px\n",
    "from matplotlib import pyplot as plt\n",
    "#matplotlib.use(\"Agg\")\n",
    "import numpy as np\n",
    "import os\n",
    "from tqdm import tqdm\n",
    "from skimage import restoration\n",
    "from matplotlib.colors import LogNorm\n",
    "\n",
    "from numpy import log10\n",
    "\n",
    "from scipy.ndimage import binary_fill_holes, label\n",
    "from scipy import ndimage as ndi\n",
    "from scipy.ndimage import gaussian_filter\n",
    "\n",
    "from skimage.feature import peak_local_max\n",
    "from skimage import data\n",
    "from skimage import img_as_float\n",
    "from skimage.morphology import reconstruction\n",
    "from skimage.measure import label, regionprops\n",
    "from skimage.segmentation import watershed\n",
    "from skimage.filters import sobel, threshold_triangle, threshold_li"
   ]
  },
  {
   "cell_type": "markdown",
   "id": "924fb6d8-162c-4314-9e96-2fd81d0cc463",
   "metadata": {},
   "source": [
    "## Load dataset"
   ]
  },
  {
   "cell_type": "code",
   "execution_count": 2,
   "id": "1cf476b6-2457-42a2-85c8-4b8404759fd0",
   "metadata": {},
   "outputs": [],
   "source": [
    "signal = hs.io.load('SPED_600x600x12_10x10_4p63x4p63_1deg_100Hz_CL12cm_NBD_alpha5_spot1p3_preprocessed.hspy')\n",
    "DP_scale = signal.axes_manager[2].scale\n",
    "DP_scale"
   ]
  },
  {
   "cell_type": "markdown",
   "id": "8636ac13-eac7-4455-9c31-e0bc9052e11f",
   "metadata": {},
   "source": [
    "## Create ground truths"
   ]
  },
  {
   "cell_type": "markdown",
   "id": "3b8c2489-37cb-4767-abc0-3359bf9db935",
   "metadata": {},
   "source": [
    "### Ground truth #1"
   ]
  },
  {
   "cell_type": "markdown",
   "id": "2cc47a4a-70c9-45e7-987d-9d0ea0eda659",
   "metadata": {},
   "source": [
    "In this approach, a virtual dark-field (VDF) image is created per precipitate phase electron diffraction pattern.\n",
    "vdf_phase_x refers to the VDFs for the two edge on configurations of T1 and $\\theta'$, while vdf_theta_face_on refers to the VDF from $\\theta'$ viewed face on."
   ]
  },
  {
   "cell_type": "markdown",
   "id": "e6d6a73a-1d80-49a2-ba99-54b94f59df13",
   "metadata": {},
   "source": [
    "#### Step 1: Create VDFs based on one reflection per precipitate phase"
   ]
  },
  {
   "cell_type": "code",
   "execution_count": 23,
   "id": "78c1a5a3-360d-4a30-93c7-7e6f0d3bc24a",
   "metadata": {},
   "outputs": [],
   "source": [
    "vdf_T1_1 = signal.get_integrated_intensity(hs.roi.CircleROI(cx=-0.133035, cy=0.437115, r=0.0285075, r_inner=0))\n",
    "\n",
    "vdf_T1_2 = signal.get_integrated_intensity(hs.roi.CircleROI(cx=0.437115, cy=0.11403, r=0.0285075, r_inner=0))\n",
    "\n",
    "vdf_theta1 = signal.get_integrated_intensity(hs.roi.CircleROI(cx=0.13804, cy=-0.2618, r=0.02856, r_inner=0))\n",
    "\n",
    "vdf_theta2 = signal.get_integrated_intensity(hs.roi.CircleROI(cx=-0.019005, cy=0.285075, r=0.0285075, r_inner=0.00950249))\n",
    "\n",
    "vdf_theta_faceon = signal.get_integrated_intensity(hs.roi.CircleROI(cx=0.323085, cy=0.0950249, r=0.0285075, r_inner=0))"
   ]
  },
  {
   "cell_type": "code",
   "execution_count": 9,
   "id": "2aa14f4a-85f1-4e0c-be10-371ad1b95375",
   "metadata": {},
   "outputs": [],
   "source": [
    "vdf_theta_faceon.plot()"
   ]
  },
  {
   "cell_type": "code",
   "execution_count": 21,
   "id": "2137882f-c474-4b23-8f7b-ed236025da2d",
   "metadata": {},
   "outputs": [],
   "source": [
    "plt.close('all')\n",
    "roi=hs.roi.CircleROI(cx=0.133035, cy=-0.26607, r=0.0285075, r_inner=0)\n",
    "signal.plot_integrated_intensity(roi=roi)"
   ]
  },
  {
   "cell_type": "code",
   "execution_count": 22,
   "id": "912e5da1-5005-434e-bd63-8929b9ee0647",
   "metadata": {},
   "outputs": [
    {
     "data": {
      "text/plain": [
       "CircleROI(cx=0.13804, cy=-0.2618, r=0.02856, r_inner=0)"
      ]
     },
     "execution_count": 22,
     "metadata": {},
     "output_type": "execute_result"
    }
   ],
   "source": [
    "roi"
   ]
  },
  {
   "cell_type": "code",
   "execution_count": 66,
   "id": "c58958fe-f0a9-4100-a96e-0a773a48e5e2",
   "metadata": {},
   "outputs": [],
   "source": [
    "vdf_theta_faceon.plot()"
   ]
  },
  {
   "cell_type": "markdown",
   "id": "78912198-ecfd-4662-9632-0b56bfca1ede",
   "metadata": {},
   "source": [
    "#### Step 2: Threshold each VDF"
   ]
  },
  {
   "cell_type": "markdown",
   "id": "da6395cd-ad4c-4e4a-9d20-b27d18ab20c6",
   "metadata": {},
   "source": [
    "$\\theta'$ edge on. As this phase has intense reflections, li- and triangle thresholding was deemed sufficient for creating the binary VDFs for this phase."
   ]
  },
  {
   "cell_type": "code",
   "execution_count": 24,
   "id": "7e6a4efc-879d-42e3-9ba2-5b9e1d9c6371",
   "metadata": {},
   "outputs": [
    {
     "data": {
      "text/plain": [
       "<matplotlib.image.AxesImage at 0x14a5c21ec48>"
      ]
     },
     "execution_count": 24,
     "metadata": {},
     "output_type": "execute_result"
    }
   ],
   "source": [
    "vdf_theta1_bin = vdf_theta1.data > threshold_triangle(vdf_theta1.data)\n",
    "fig,ax = plt.subplots(1,2,sharex=True,sharey=True)\n",
    "ax[0].imshow(vdf_theta1_bin)\n",
    "ax[1].imshow(vdf_theta1, norm=LogNorm())"
   ]
  },
  {
   "cell_type": "code",
   "execution_count": 15,
   "id": "f9ade0fb-54e7-4916-97c2-75da9adb0a7d",
   "metadata": {},
   "outputs": [
    {
     "data": {
      "text/plain": [
       "<matplotlib.image.AxesImage at 0x14a5041cc08>"
      ]
     },
     "execution_count": 15,
     "metadata": {},
     "output_type": "execute_result"
    }
   ],
   "source": [
    "from skimage.filters import threshold_li\n",
    "vdf_theta2_bin = vdf_theta2.data > threshold_triangle(vdf_theta2.data)\n",
    "fig,ax = plt.subplots(2,1,sharex=True,sharey=True)\n",
    "ax[0].imshow(vdf_theta2_bin)\n",
    "ax[1].imshow(vdf_theta2, norm=LogNorm())"
   ]
  },
  {
   "cell_type": "code",
   "execution_count": 14,
   "id": "184254ec-ef18-47dc-afa1-c28be20ebba3",
   "metadata": {},
   "outputs": [
    {
     "data": {
      "text/plain": [
       "<matplotlib.image.AxesImage at 0x14a5b2aa708>"
      ]
     },
     "execution_count": 14,
     "metadata": {},
     "output_type": "execute_result"
    }
   ],
   "source": [
    "vdf_theta_bin = vdf_theta1_bin + vdf_theta2_bin\n",
    "fig,ax = plt.subplots(2,1,sharex=True,sharey=True)\n",
    "ax[0].imshow(vdf_theta_bin)\n",
    "ax[1].imshow(vdf_theta1 + vdf_theta2, norm=LogNorm())"
   ]
  },
  {
   "cell_type": "markdown",
   "id": "d308db62-28cf-4686-b028-abc1f8ca50ec",
   "metadata": {},
   "source": [
    "$\\theta'$ face on. As this phase has weak refelctions, watershed segmentation was used for the creation of the binary VDFs for this phase."
   ]
  },
  {
   "cell_type": "code",
   "execution_count": 38,
   "id": "9ecd95a9-74cf-4f63-8252-3417c7fd1047",
   "metadata": {},
   "outputs": [
    {
     "data": {
      "text/plain": [
       "numpy.ndarray"
      ]
     },
     "execution_count": 38,
     "metadata": {},
     "output_type": "execute_result"
    }
   ],
   "source": [
    "type(vdf_theta_faceon.data)"
   ]
  },
  {
   "cell_type": "code",
   "execution_count": null,
   "id": "bf9bba46-41b4-49ee-8044-beea91ff7994",
   "metadata": {},
   "outputs": [],
   "source": [
    "markers = np.zeros_like(vdf_theta_faceon)\n",
    "markers[vdf_theta_faceon < 250] = 1\n",
    "markers[vdf_theta_faceon > 400] = 2\n",
    "\n",
    "elevation_map = sobel(vdf_theta_faceon.data)\n",
    "\n",
    "segmentation = watershed(elevation_map, markers)\n",
    "segmentation = ndi.binary_fill_holes(segmentation-1)\n",
    "vdf_theta_faceon_bin = segmentation > 0\n",
    "\n",
    "fig,ax = plt.subplots(1,2,sharex=True,sharey=True)\n",
    "ax[0].imshow(vdf_theta_faceon_bin)\n",
    "ax[1].imshow(vdf_theta_faceon, norm=LogNorm())"
   ]
  },
  {
   "cell_type": "markdown",
   "id": "d78ea4d8-2618-4762-b396-363e76d463e2",
   "metadata": {},
   "source": [
    "T1 edge on. As this phase has weak reflections, watershed regmentation was used for the creation of the binary VDFs for this phase."
   ]
  },
  {
   "cell_type": "code",
   "execution_count": 72,
   "id": "d7abe629-7d7c-486f-b27b-df3e2463b0db",
   "metadata": {},
   "outputs": [
    {
     "data": {
      "text/plain": [
       "<matplotlib.image.AxesImage at 0x15004a3c6c8>"
      ]
     },
     "execution_count": 72,
     "metadata": {},
     "output_type": "execute_result"
    }
   ],
   "source": [
    "markers = np.zeros_like(vdf_T1_1)\n",
    "markers[vdf_T1_1 < 250] = 1\n",
    "markers[vdf_T1_1 > 300] = 2\n",
    "\n",
    "elevation_map = sobel(vdf_T1_1.data)\n",
    "segmentation = watershed(elevation_map, markers)\n",
    "vdf_T1_1_bin = segmentation > 1\n",
    "fig,ax = plt.subplots(1,2,sharex=True,sharey=True)\n",
    "ax[0].imshow(vdf_T1_1_bin)\n",
    "ax[1].imshow(vdf_T1_1, norm=LogNorm())"
   ]
  },
  {
   "cell_type": "code",
   "execution_count": 76,
   "id": "1e856e7e-b998-4b20-9961-a5098fa96975",
   "metadata": {},
   "outputs": [
    {
     "data": {
      "text/plain": [
       "<matplotlib.image.AxesImage at 0x15005d93bc8>"
      ]
     },
     "execution_count": 76,
     "metadata": {},
     "output_type": "execute_result"
    }
   ],
   "source": [
    "markers = np.zeros_like(vdf_T1_2)\n",
    "markers[vdf_T1_2 < 250] = 1\n",
    "markers[vdf_T1_2 > 300] = 2\n",
    "\n",
    "elevation_map = sobel(vdf_T1_2.data)\n",
    "segmentation = watershed(elevation_map, markers)\n",
    "segmentation = ndi.binary_fill_holes(segmentation-1)\n",
    "vdf_T1_2_bin = segmentation > 0\n",
    "\n",
    "fig,ax = plt.subplots(1,2,sharex=True,sharey=True)\n",
    "ax[0].imshow(vdf_T1_2_bin)\n",
    "ax[1].imshow(vdf_T1_2, norm=LogNorm())"
   ]
  },
  {
   "cell_type": "code",
   "execution_count": 81,
   "id": "d4e27f32-e1a9-423d-8808-41a864db4999",
   "metadata": {},
   "outputs": [],
   "source": [
    "signal.plot(navigator=hs.signals.Signal2D(vdf_T1_bin))"
   ]
  },
  {
   "cell_type": "code",
   "execution_count": 80,
   "id": "f5cc1796-444f-4804-9d72-c5fbac2dc74e",
   "metadata": {},
   "outputs": [],
   "source": [
    "vdf_T1_bin = vdf_T1_2_bin + vdf_T1_1_bin"
   ]
  },
  {
   "cell_type": "markdown",
   "id": "ba6e964d-7a34-4b03-abde-041e5311d3d5",
   "metadata": {},
   "source": [
    "#### Step 3: Remove unwanted pixels"
   ]
  },
  {
   "cell_type": "markdown",
   "id": "01ed7390-e52c-4a3a-8903-1edf9a32e601",
   "metadata": {},
   "source": [
    "$\\theta'$"
   ]
  },
  {
   "cell_type": "code",
   "execution_count": 13,
   "id": "4bb9bfa6-91c6-4a17-9e42-6156d49f70da",
   "metadata": {},
   "outputs": [
    {
     "data": {
      "text/plain": [
       "<matplotlib.image.AxesImage at 0x2378c161d48>"
      ]
     },
     "execution_count": 13,
     "metadata": {},
     "output_type": "execute_result"
    }
   ],
   "source": [
    "from skimage.measure import label, regionprops\n",
    "\n",
    "theta_labeled = label(vdf_theta_bin)\n",
    "props = regionprops(theta_labeled)\n",
    "for i in range(len(props)):\n",
    "    if props[i].area <= 3:\n",
    "        for x_coord in props[i].coords[:,0]:\n",
    "            for y_coord in props[i].coords[:,1]:\n",
    "                vdf_theta_bin[x_coord, y_coord] = 0\n",
    "plt.imshow(vdf_theta_bin)"
   ]
  },
  {
   "cell_type": "code",
   "execution_count": 14,
   "id": "6a71c2fd-a6df-4ada-b544-c5cabcee1e81",
   "metadata": {},
   "outputs": [],
   "source": [
    "markers = np.zeros_like(vdf_theta_faceon)\n",
    "markers[vdf_theta_faceon < 600] = 1\n",
    "markers[vdf_theta_faceon > 650] = 2\n",
    "\n",
    "elevation_map = sobel(vdf_theta_faceon)\n",
    "\n",
    "segmentation = watershed(elevation_map, markers)\n",
    "segmentation = ndi.binary_fill_holes(segmentation-1)\n",
    "vdf_theta_faceon_bin = segmentation > 0\n",
    "\n",
    "#fig,ax = plt.subplots(1,2,sharex=True,sharey=True)\n",
    "#ax[0].imshow(vdf_theta_faceon_bin)\n",
    "#ax[1].imshow(vdf_theta_faceon, norm=LogNorm())"
   ]
  },
  {
   "cell_type": "code",
   "execution_count": 15,
   "id": "6e034959-0c29-4c0e-bb4f-44cd94f4ce5b",
   "metadata": {},
   "outputs": [
    {
     "data": {
      "text/plain": [
       "<matplotlib.image.AxesImage at 0x2378d08ae48>"
      ]
     },
     "execution_count": 15,
     "metadata": {},
     "output_type": "execute_result"
    }
   ],
   "source": [
    "vdf_theta_faceon_labeled = label(vdf_theta_faceon_bin)\n",
    "props = regionprops(vdf_theta_faceon_labeled)\n",
    "for i in range(len(props)):\n",
    "    if props[i].area <= 2000:\n",
    "        for x_coord in props[i].coords[:,0]:\n",
    "            for y_coord in props[i].coords[:,1]:\n",
    "                vdf_theta_faceon_bin[x_coord, y_coord] = 0\n",
    "\n",
    "\n",
    "vdf_theta_faceon_bin[np.argwhere(np.logical_and(vdf_theta_faceon_bin, vdf_theta_bin))[:,0], np.argwhere(np.logical_and(vdf_theta_faceon_bin, vdf_theta_bin))[:,1]] = False\n",
    "\n",
    "vdf_theta_faceon_labeled = label(vdf_theta_faceon_bin)\n",
    "props = regionprops(vdf_theta_faceon_labeled)\n",
    "for i in range(len(props)):\n",
    "    if props[i].area <= 2000:\n",
    "        for x_coord in props[i].coords[:,0]:\n",
    "            for y_coord in props[i].coords[:,1]:\n",
    "                vdf_theta_faceon_bin[x_coord, y_coord] = 0\n",
    "\n",
    "\n",
    "plt.imshow(vdf_theta_faceon_bin)"
   ]
  },
  {
   "cell_type": "markdown",
   "id": "42070824-87d0-4818-b7a8-33d67e1979b8",
   "metadata": {},
   "source": [
    "#### Create the ground truth image"
   ]
  },
  {
   "cell_type": "markdown",
   "id": "e6015790-3ae3-4d83-8009-6c39d798d33d",
   "metadata": {},
   "source": [
    "Some of the precipitate phases are overlapping. A simple approach was chosen to overcome this challenge. Here, $\\theta'$ edge on are prioritized over T1 edge on which is prioritized over $\\theta'$ face on."
   ]
  },
  {
   "cell_type": "code",
   "execution_count": 16,
   "id": "2cdb5a10-ad55-401e-bd70-7c6e2792891a",
   "metadata": {},
   "outputs": [
    {
     "data": {
      "text/plain": [
       "<matplotlib.image.AxesImage at 0x2378d0ab608>"
      ]
     },
     "execution_count": 16,
     "metadata": {},
     "output_type": "execute_result"
    }
   ],
   "source": [
    "###### \n",
    "# Theta edge on trumps T1. T1 trumps theta face on #\n",
    "\n",
    "vdf_T1_bin[np.argwhere(np.logical_and(vdf_T1_bin, vdf_theta_bin))[:,0], np.argwhere(np.logical_and(vdf_T1_bin, vdf_theta_bin))[:,1]] = False\n",
    "vdf_theta_faceon_bin[np.argwhere(np.logical_and(vdf_T1_bin, vdf_theta_faceon_bin))[:,0], np.argwhere(np.logical_and(vdf_T1_bin, vdf_theta_faceon_bin))[:,1]] = False\n",
    "\n",
    "\n",
    "vdf_T1_bin3 = np.zeros_like(vdf_T1_bin, dtype='int')\n",
    "vdf_T1_bin3[vdf_T1_bin > 0] = 3\n",
    "\n",
    "vdf_theta_bin_faceon2 = np.zeros_like(vdf_theta_faceon_bin, dtype='int')\n",
    "vdf_theta_bin_faceon2[vdf_theta_faceon_bin > 0] = 2\n",
    "\n",
    "vdf_theta_bin1 = np.zeros_like(vdf_theta_bin, dtype='int')\n",
    "vdf_theta_bin1[vdf_theta_bin > 0] = 1\n",
    "\n",
    "ground_truth_1 = vdf_T1_bin3 + vdf_theta_bin_faceon2 + vdf_theta_bin1\n",
    "ground_truth_1 = hs.signals.BaseSignal(ground_truth_1)\n",
    "\n",
    "### Correct some pixels manually:\n",
    "ground_truth_1.isig[147,130] = 0\n",
    "\n",
    "plt.imshow(ground_truth_1)"
   ]
  },
  {
   "cell_type": "markdown",
   "id": "018be88c-b473-41a4-bd38-a9748aba4958",
   "metadata": {},
   "source": [
    "### Ground truth #2"
   ]
  },
  {
   "cell_type": "code",
   "execution_count": 4,
   "id": "22a0de8f-fb83-4e4b-a624-18a586875680",
   "metadata": {},
   "outputs": [],
   "source": [
    "signal_bin = signal.rebin(scale=(1, 1, 2, 2))\n",
    "shift = 1\n",
    "signal_log = log10(signal_bin.data+shift) - log10(shift)\n",
    "signal_log = px.signals.ElectronDiffraction2D(signal_log)\n",
    "scale = 1\n",
    "signal_log.set_diffraction_calibration(scale)\n",
    "signal_log.data = signal_log.data/np.max(signal_log.data)*4096\n",
    "signal_log.change_dtype('uint32')\n",
    "\n",
    "signal_log.plot()"
   ]
  },
  {
   "cell_type": "markdown",
   "id": "42de0a68-d0f0-46c8-9b1c-80c15cfabb46",
   "metadata": {},
   "source": [
    "#### Create binary image of $\\theta'$ edge on:"
   ]
  },
  {
   "cell_type": "code",
   "execution_count": 18,
   "id": "e7734593-719b-4609-afe9-69ece22460db",
   "metadata": {},
   "outputs": [],
   "source": [
    "##################\n",
    "# Mask the theta' viewed edge on\n",
    "##################\n",
    "roi = hs.roi.CircleROI(cx=7, cy=-15, r=2.5, r_inner=0)\n",
    "righttop = signal_log.get_integrated_intensity(roi)\n",
    "#righttop.plot(cmap='magma_r')\n",
    "righttop_mask = righttop.data.copy()\n",
    "righttop_mask[righttop_mask<32000] = 0\n",
    "#hs.signals.BaseSignal(righttop_mask).plot(cmap='magma_r')\n",
    "righttop_mask = righttop_mask.astype('bool')"
   ]
  },
  {
   "cell_type": "code",
   "execution_count": 19,
   "id": "9d9c4216-8770-4ae8-8688-30a6b45002c1",
   "metadata": {},
   "outputs": [],
   "source": [
    "roi = hs.roi.CircleROI(cx=-14, cy=-8, r=2.5, r_inner=0)\n",
    "lefttop = signal_log.get_integrated_intensity(roi)\n",
    "#lefttop.plot(cmap='magma_r')\n",
    "lefttop_mask = lefttop.data.copy()\n",
    "lefttop_mask[lefttop_mask<32100] = 0\n",
    "#hs.signals.BaseSignal(lefttop_mask).plot(cmap='magma_r')\n",
    "lefttop_mask = lefttop_mask.astype('bool')"
   ]
  },
  {
   "cell_type": "code",
   "execution_count": 20,
   "id": "381272ab-0d48-4916-be4a-83cc2d24c879",
   "metadata": {},
   "outputs": [],
   "source": [
    "vdf_theta_bin = np.array(righttop_mask.copy() + lefttop_mask.copy(), dtype='bool')\n",
    "hs.signals.BaseSignal(vdf_theta_bin).plot(cmap='magma_r')"
   ]
  },
  {
   "cell_type": "markdown",
   "id": "f3e3578e-3757-4d74-b15b-436411d9b6d4",
   "metadata": {},
   "source": [
    "#### Create binary image of T1:"
   ]
  },
  {
   "cell_type": "code",
   "execution_count": 21,
   "id": "a625f90b-c5b6-42be-926a-e5b8eb9bd5c0",
   "metadata": {},
   "outputs": [],
   "source": [
    "from scipy.ndimage import label, distance_transform_edt\n",
    "#################\n",
    "# Mask the T1 phases\n",
    "#################\n",
    "roi = hs.roi.CircleROI(cx=6, cy=-26, r=2.5, r_inner=0)\n",
    "righttop = signal_log.get_integrated_intensity(roi)\n",
    "#righttop.plot(cmap='magma_r')\n",
    "righttop_mask = righttop.data.copy()\n",
    "righttop_mask[righttop_mask<27300] = 0\n",
    "#hs.signals.BaseSignal(righttop_mask).plot(cmap='magma_r')\n",
    "righttop_mask[vdf_theta_bin] = 0\n",
    "#hs.signals.BaseSignal(righttop_mask).plot(cmap='magma_r')\n",
    "labs, _ = label(righttop_mask)\n",
    "#hs.signals.BaseSignal(labs).plot(cmap='magma_r')\n",
    "# remove the labelled regions with sizes below a threshold\n",
    "th = 10\n",
    "for i in np.arange(1, np.max(labs)):\n",
    "    if np.sum(labs[labs == i])/i < th:\n",
    "        righttop_mask[labs == i] = 0\n",
    "#hs.signals.BaseSignal(righttop_mask).plot(cmap='magma_r')\n",
    "righttop_mask = righttop_mask.astype('bool')"
   ]
  },
  {
   "cell_type": "code",
   "execution_count": 22,
   "id": "1e10b9d3-eb84-4391-85e8-feff78543711",
   "metadata": {},
   "outputs": [],
   "source": [
    "roi = hs.roi.CircleROI(cx=-24, cy=-9, r=2.5, r_inner=0)\n",
    "lefttop = signal_log.get_integrated_intensity(roi)\n",
    "#lefttop.plot(cmap='magma_r')\n",
    "lefttop_mask = lefttop.data.copy()\n",
    "lefttop_mask[lefttop_mask<27000] = 0\n",
    "#hs.signals.BaseSignal(lefttop_mask).plot(cmap='magma_r')\n",
    "lefttop_mask[vdf_theta_bin] = 0\n",
    "#hs.signals.BaseSignal(lefttop_mask).plot(cmap='magma_r')\n",
    "labs, _ = label(lefttop_mask)\n",
    "#hs.signals.BaseSignal(labs).plot(cmap='magma_r')\n",
    "# remove the labelled regions with sizes below a threshold\n",
    "th = 10\n",
    "for i in np.arange(1, np.max(labs)):\n",
    "    if np.sum(labs[labs == i])/i < th:\n",
    "        lefttop_mask[labs == i] = 0\n",
    "#hs.signals.BaseSignal(lefttop_mask).plot(cmap='magma_r')\n",
    "lefttop_mask = lefttop_mask.astype('bool')\n",
    "\n",
    "vdf_T1_bin = np.array(righttop_mask.copy() + lefttop_mask.copy(), dtype='bool')\n",
    "hs.signals.BaseSignal(vdf_T1_bin).plot(cmap='magma_r')"
   ]
  },
  {
   "cell_type": "markdown",
   "id": "17b37ffe-9a27-4b44-9d7b-2162ad4a01cb",
   "metadata": {},
   "source": [
    "#### Create binary image of $\\theta'$ viewed face on:"
   ]
  },
  {
   "cell_type": "code",
   "execution_count": 23,
   "id": "15c73171-b848-459b-b72d-c8be389ff4e3",
   "metadata": {},
   "outputs": [],
   "source": [
    "###################\n",
    "# Mask of the theta' viewed face on.\n",
    "###################\n",
    "roi = hs.roi.CircleROI(cx=3, cy=-19, r=2.5, r_inner=0.5)\n",
    "blobs = signal_log.get_integrated_intensity(roi)\n",
    "#blobs.plot(cmap='magma_r')\n",
    "blobs_mask = blobs.data.copy()\n",
    "blobs_mask[blobs_mask<29000] = 0\n",
    "#hs.signals.BaseSignal(blobs_mask).plot(cmap='magma_r')\n",
    "blobs_mask_sobel = sobel(blobs_mask)\n",
    "#hs.signals.BaseSignal(blobs_mask_sobel).plot(cmap='magma_r')\n",
    "dists = distance_transform_edt(blobs_mask)\n",
    "#hs.signals.BaseSignal(dists).plot(cmap='magma_r')\n",
    "peaks = peak_local_max(dists, min_distance = 10, exclude_border = 1, threshold_abs = 18)\n",
    "peaks_mask = np.zeros_like(blobs_mask)\n",
    "peaks_mask[tuple(peaks.T)] = 1\n",
    "#hs.signals.BaseSignal(peaks_mask).plot(cmap='magma_r')\n",
    "seg = watershed(image=blobs_mask_sobel, markers = peaks_mask, mask=blobs_mask)\n",
    "#hs.signals.BaseSignal(seg).plot(cmap='magma_r')\n",
    "seg_fill = binary_fill_holes(seg)\n",
    "#hs.signals.BaseSignal(seg_fill).plot(cmap='magma_r')\n",
    "# Manually remove the incorrectly labeled regions around the 'duck'\n",
    "seg_fill[58, 95] = 0\n",
    "seg_fill[59, 95] = 0\n",
    "seg_fill[60, 94] = 0\n",
    "seg_fill[61, 93] = 0\n",
    "seg_fill[62, 93] = 0\n",
    "seg_fill[47, 86] = 0\n",
    "seg_fill[46, 87] = 0\n",
    "seg_fill[46, 88] = 0\n",
    "labels, num = label(seg_fill)\n",
    "#hs.signals.BaseSignal(labels).plot(cmap='magma_r')\n",
    "labels[labels == 3] = 0\n",
    "labels[labels == 1] = 0\n",
    "hs.signals.BaseSignal(labels).plot(cmap='magma_r')\n",
    "\n",
    "vdf_theta_faceon_bin = np.array(labels, dtype='bool')"
   ]
  },
  {
   "cell_type": "code",
   "execution_count": 24,
   "id": "41a698af-5aff-44f4-8fae-d80d14965ce4",
   "metadata": {},
   "outputs": [],
   "source": [
    "# NB!! The needles are prioritized over plates that are prioritized over blobs\"\n",
    "ground_truth_2 = np.zeros_like(blobs, dtype='int32')\n",
    "ground_truth_2[vdf_theta_faceon_bin] = 2\n",
    "ground_truth_2[vdf_T1_bin] = 3\n",
    "ground_truth_2[vdf_theta_bin] = 1\n",
    "ground_truth_2 = hs.signals.BaseSignal(ground_truth_2)"
   ]
  },
  {
   "cell_type": "code",
   "execution_count": 25,
   "id": "a25e0eb8-2de7-43b1-9d91-a6b4c933deb1",
   "metadata": {},
   "outputs": [],
   "source": [
    "# Correct some pixels manually:\n",
    "ground_truth_2.data[15, 20] = 0 #(from 3 to 0)\n",
    "ground_truth_2.data[71, 39] = 3 #(from 0 to 3)\n",
    "ground_truth_2.data[45, 65] = 2 #(from 0 to 2)\n",
    "ground_truth_2.data[45, 64] = 2 #(from 0 to 2)\n",
    "ground_truth_2.data[47, 64] = 2 #(from 0 to 2)\n",
    "ground_truth_2.data[47, 65] = 2 #(from 0 to 2)\n",
    "ground_truth_2.data[52, 92] = 2 #(from 1 to 2)\n",
    "ground_truth_2.data[188, 92] = 3 #(from 0 to 3)\n",
    "ground_truth_2.data[186, 96] = 3 #(from 0 to 3)\n",
    "ground_truth_2.data[185, 98] = 3 #(from 0 to 3)\n",
    "ground_truth_2.data[301, 153] = 1 #(from 0 to 1)\n",
    "ground_truth_2.data[303, 157] = 1 #(from 0 to 1)\n",
    "ground_truth_2.data[20, 330] = 2 #(from 1 to 2)\n",
    "ground_truth_2.data[21, 331] = 2 #(from 1 to 2)\n",
    "ground_truth_2.data[477, 453] = 1 #(from 0 to 1)\n",
    "ground_truth_2.data[478, 454] = 1 #(from 0 to 1)\n",
    "\n",
    "\n",
    "ground_truth_2.plot(cmap='viridis')\n",
    "#plt.savefig(folder+'ground_truth_Tina.png')\n",
    "#ground_truth.save(folder+'ground_truth_Tina.hdf5')\n",
    "\n",
    "signal_log.plot(navigator=ground_truth_2, cmap='magma_r')"
   ]
  },
  {
   "cell_type": "markdown",
   "id": "a89de7e2-7cb4-44ac-9f2c-5ac56cdd0ea0",
   "metadata": {},
   "source": [
    "### Ground truth #3"
   ]
  },
  {
   "cell_type": "markdown",
   "id": "0e70426e-024c-4eee-a91d-9a5dae8f59da",
   "metadata": {},
   "source": [
    "#### Make Precipitate object"
   ]
  },
  {
   "cell_type": "code",
   "execution_count": 3,
   "id": "0d4bc5ca-7a36-46bf-923c-b9edf12ed019",
   "metadata": {},
   "outputs": [],
   "source": [
    "from scipy.ndimage import label\n",
    "import copy\n",
    "\n",
    "#Creating empty dataset for variables in Precipitates() and also combined ground truth map eventually\n",
    "empty_vdf = signal.get_integrated_intensity(hs.roi.CircleROI(cx=0, cy=0, r=0.5)).data.copy()\n",
    "empty_vdf[empty_vdf > 0] = 0 \n",
    "\n",
    "class Precipitate():\n",
    "    name = \"\"\n",
    "    th = 0\n",
    "    roi = hs.roi.CircleROI(cx=0, cy=0, r=0, r_inner=0)\n",
    "    roi2 = hs.roi.CircleROI(cx=0, cy=0, r=0, r_inner=0)\n",
    "    label_th = 0\n",
    "    vdf = empty_vdf.copy()\n",
    "    vdf_mask = empty_vdf.copy()\n",
    "    label, _ = label(vdf_mask)\n",
    "\n",
    "    def __init__(self, name, th, label_th, roi):\n",
    "        self.name = name\n",
    "        self.th = th\n",
    "        self.roi = roi\n",
    "        self.label_th = label_th\n",
    "\n",
    "def make_precip(name, th, label_th, roi):\n",
    "    precipitate = Precipitate(name, th, label_th, roi)\n",
    "    return precipitate\n",
    "def make_precip2(name, th, label_th, roi, roi2):\n",
    "    precipitate = Precipitate(name, th, label_th, roi)\n",
    "    precipitate.roi2 = roi2\n",
    "    return precipitate"
   ]
  },
  {
   "cell_type": "code",
   "execution_count": 4,
   "id": "9c00d7af-4027-4ddd-954e-5b08f6f0dcc3",
   "metadata": {},
   "outputs": [],
   "source": [
    "#In plane theta'. Used two reflections for better signal \n",
    "roi_thetaPrimes = hs.roi.CircleROI(cx=-0.114238, cy=0.323675, r=0.0475943, r_inner=0)\n",
    "roi_thetaPrimes2 = hs.roi.CircleROI(cx=0.323675, cy=0.0761587, r=0.0475943, r_inner=0)\n",
    "\n",
    "#fat horizontals (T1)\n",
    "roi_h = hs.roi.CircleROI(cx=-0.47124, cy=-0.14756, r=0.02856, r_inner=0)\n",
    "\n",
    "#fat verticals (T1)\n",
    "roi_v = hs.roi.CircleROI(cx=0.119, cy=-0.47124, r=0.02856, r_inner=0)\n",
    "\n",
    "#left angled (thetaPrime, (200)_[010])\n",
    "roi_la = hs.roi.CircleROI(cx=0.2142, cy=0.13804, r=0.0476, r_inner=0)\n",
    "\n",
    "#right angled (thetaPrime, (020)_[100])\n",
    "roi_ra = hs.roi.CircleROI(cx=0.13328, cy=-0.2856, r=0.0476, r_inner=0)\n",
    "\n",
    "#--------------------------------------------------------------------------------------------#\n",
    "#       inputs        |      name       |  th, | label_th,|      roi,     |     roi2         #\n",
    "#--------------------------------------------------------------------------------------------#\n",
    "Theta_3 =make_precip2(\"Theta, in-plane\", 0.2,      782,    roi_thetaPrimes, roi_thetaPrimes2)#\n",
    "T1_1    = Precipitate(\"T1, horizontal\",  0.0138,    28,          roi_h )                     #\n",
    "T1_2    = Precipitate(\"T1, vertical\",    0.014,     28,          roi_v )                     #\n",
    "Theta_1 = Precipitate(\"Theta, lefty\",    0.12,       7,          roi_la)                     #\n",
    "Theta_2 = Precipitate(\"Theta, righty\",   0.17,       5,          roi_ra)                     #\n",
    "#--------------------------------------------------------------------------------------------#\n",
    "\n",
    "#list:\n",
    "precips   = np.asarray([Theta_3, T1_1, T1_2, Theta_1, Theta_2])\n",
    "numbering = np.asarray([   2,     3,     3,     1,       1   ])"
   ]
  },
  {
   "cell_type": "code",
   "execution_count": 6,
   "id": "fe134bd0-e8d2-4dd0-8b4f-12b1b68d3f3b",
   "metadata": {},
   "outputs": [],
   "source": [
    "for precip in precips:\n",
    "    if (precip.name != \"Theta, in-plane\"): #in plane theta use two rois\n",
    "        precip.vdf = signal.get_integrated_intensity(precip.roi)\n",
    "    else:\n",
    "        precip.vdf = signal.get_integrated_intensity(precip.roi) + signal.get_integrated_intensity(precip.roi2)"
   ]
  },
  {
   "cell_type": "markdown",
   "id": "e7a6316a-c2b5-487c-9448-2a6374a24303",
   "metadata": {},
   "source": [
    "#### Create masks where you remove everything below certain threshold"
   ]
  },
  {
   "cell_type": "code",
   "execution_count": 7,
   "id": "518b240a-07dd-42fa-80ad-91d0e1139d3c",
   "metadata": {},
   "outputs": [],
   "source": [
    "for i, precip in enumerate(precips):\n",
    "    if (precip.name != \"Theta, in-plane\"):\n",
    "        vdf_mask = precip.vdf.data.copy()\n",
    "        vdf_mask[vdf_mask < precip.th] = 0\n",
    "        vdf_mask[vdf_mask > 0 ] = numbering[i]\n",
    "        precip.vdf_mask = vdf_mask\n",
    "\n",
    "    else:\n",
    "        ### Need to remove edge on theta from in plane theta:\n",
    "        vdf_mask_la = precips[3].vdf.data.copy()\n",
    "        vdf_mask_la[vdf_mask_la < precips[3].th] = 0 # 3= left angle theta needles (see parameters for precips)\n",
    "        vdf_mask_la[vdf_mask_la > 0] = 1\n",
    "\n",
    "        vdf_mask_ra = precips[4].vdf.data.copy()\n",
    "        vdf_mask_ra[vdf_mask_ra < precips[4].th] = 0 # 4 = righ angle theta needles\n",
    "        vdf_mask_ra[vdf_mask_ra > 0] = 1\n",
    "\n",
    "        #Adding unwanted thetas to one mask and setting any potential 2 = 1\n",
    "        combined_mask = vdf_mask_la + vdf_mask_ra\n",
    "        combined_mask[combined_mask > 0] = 1 # All needle pix should be 1\n",
    "        #### ----- ###\n",
    "\n",
    "        vdf_mask = precip.vdf.data.copy()\n",
    "        vdf_mask[vdf_mask < precip.th] = 0\n",
    "        vdf_mask[vdf_mask > 0 ] = numbering[i]\n",
    "\n",
    "        # Removing other oriientations from map\n",
    "        vdf_mask[vdf_mask == combined_mask*2] = 0\n",
    "        precip.vdf_mask = vdf_mask"
   ]
  },
  {
   "cell_type": "markdown",
   "id": "fe950bbe-fdb0-4e99-9fdd-4b9cf114d30a",
   "metadata": {},
   "source": [
    "#### Use label from scipy to remove noise"
   ]
  },
  {
   "cell_type": "code",
   "execution_count": 8,
   "id": "14ab7799-6726-4e87-80d5-ec5afd719870",
   "metadata": {},
   "outputs": [],
   "source": [
    "from scipy.ndimage import label\n",
    "\n",
    "for precip in precips:\n",
    "    # Labels groups of pixels by size\n",
    "    precip.label = label(precip.vdf_mask)[0]\n",
    "    for i in np.arange(1, np.max(precip.label)):\n",
    "        # Everything below label_th size concidered noise and removed:\n",
    "        if np.sum(precip.label[precip.label == i])/i < precip.label_th: \n",
    "            precip.vdf_mask[precip.label == i] = 0"
   ]
  },
  {
   "cell_type": "markdown",
   "id": "2d4d4a03-2c59-4af8-b576-e1578c558f8d",
   "metadata": {},
   "source": [
    "#### Now combine all masks to ground truth"
   ]
  },
  {
   "cell_type": "code",
   "execution_count": 9,
   "id": "a99b8719-9ca4-4b88-a8bf-2beef1c37c38",
   "metadata": {},
   "outputs": [],
   "source": [
    "ground_truth_3 = empty_vdf.copy()\n",
    "\n",
    "for i, precip in enumerate(precips):\n",
    "    precip = precip\n",
    "    ground_truth_3[precip.vdf_mask == numbering[i]] = numbering[i]\n",
    "    \n",
    "plt.figure()\n",
    "plt.imshow(ground_truth_3)\n",
    "\n",
    "ground_truth_3 = hs.signals.BaseSignal(ground_truth_3)"
   ]
  },
  {
   "cell_type": "markdown",
   "id": "b7f0e525-de01-4987-a782-f08c3e6b352e",
   "metadata": {},
   "source": [
    "### Save ground truths"
   ]
  },
  {
   "cell_type": "code",
   "execution_count": 33,
   "id": "3eb36904-826c-4760-a6e9-96c1eabdea05",
   "metadata": {},
   "outputs": [],
   "source": [
    "ground_truth_1.axes_manager[0].scale = 4.63\n",
    "ground_truth_1.axes_manager[1].scale = 4.63\n",
    "ground_truth_1.axes_manager[0].units = 'nm'\n",
    "ground_truth_1.axes_manager[1].units = 'nm'\n",
    "\n",
    "ground_truth_2.axes_manager = ground_truth_1.axes_manager\n",
    "ground_truth_3.axes_manager = ground_truth_1.axes_manager"
   ]
  },
  {
   "cell_type": "code",
   "execution_count": 34,
   "id": "c6f58177-7c3e-4f3e-89c0-0f80192d2ccd",
   "metadata": {},
   "outputs": [
    {
     "name": "stdout",
     "output_type": "stream",
     "text": [
      "Overwrite 'H:\\Ground_truths\\ground_truth_1.hdf5' (y/n)?\n",
      " y\n",
      "Overwrite 'H:\\Ground_truths\\ground_truth_2.hdf5' (y/n)?\n",
      " y\n",
      "Overwrite 'H:\\Ground_truths\\ground_truth_3.hdf5' (y/n)?\n",
      " y\n"
     ]
    }
   ],
   "source": [
    "directory = '/Ground_truths/'\n",
    "\n",
    "if not os.path.exists(directory):\n",
    "    os.makedirs(directory)\n",
    "\n",
    "ground_truth_1.save(directory + 'ground_truth_1.hdf5')\n",
    "ground_truth_2.save(directory + 'ground_truth_2.hdf5')\n",
    "ground_truth_3.save(directory + 'ground_truth_3.hdf5')"
   ]
  },
  {
   "cell_type": "markdown",
   "id": "653dae65-28c5-4434-8f22-1ab333644a9d",
   "metadata": {},
   "source": [
    "### Load and compare the three different ground truths"
   ]
  },
  {
   "cell_type": "markdown",
   "id": "c66b624a-6b80-49e4-a3c7-555f7e936237",
   "metadata": {},
   "source": [
    "The following ints are used for the four different precipitate phases in the ground truths: <br>\n",
    "<ul>\n",
    "    <li> Al: 0 </li>\n",
    "    <li> $\\theta'$ edge on: 1 </li>\n",
    "    <li> $\\theta'$ face on: 2 </li>\n",
    "    <li> T1: 3 </li>\n",
    "    <li> Not indexed: 4 </li>\n",
    "</ul>"
   ]
  },
  {
   "cell_type": "code",
   "execution_count": 35,
   "id": "96d4411a-db1d-4ef4-8bdf-17b1a28654a7",
   "metadata": {},
   "outputs": [],
   "source": [
    "directory = '/Ground_truths/'\n",
    "\n",
    "ground_truth_1 = hs.io.load(directory + 'ground_truth_1.hdf5')\n",
    "ground_truth_2 = hs.io.load(directory + 'ground_truth_2.hdf5')\n",
    "ground_truth_3 = hs.io.load(directory + 'ground_truth_3.hdf5')"
   ]
  },
  {
   "cell_type": "code",
   "execution_count": 291,
   "id": "14ea1cad-1cd6-4b32-9810-0b007e028398",
   "metadata": {},
   "outputs": [],
   "source": [
    "difference_12 = ground_truth_1.data - ground_truth_2.data\n",
    "difference_13 = ground_truth_1.data - ground_truth_3.data\n",
    "difference_23 = ground_truth_2.data - ground_truth_3.data"
   ]
  },
  {
   "cell_type": "code",
   "execution_count": 292,
   "id": "6591b322-4aa9-4b44-9847-5b3a4cef277d",
   "metadata": {},
   "outputs": [
    {
     "data": {
      "text/plain": [
       "Text(0.5, 1.0, 'Difference 2 3')"
      ]
     },
     "execution_count": 292,
     "metadata": {},
     "output_type": "execute_result"
    }
   ],
   "source": [
    "fig, ax = plt.subplots(1,3, sharex=True, sharey=True)\n",
    "ax[0].imshow(difference_12)\n",
    "ax[0].set_title('Difference 1 2')\n",
    "ax[1].imshow(difference_13)\n",
    "ax[1].set_title('Difference 1 3')\n",
    "ax[2].imshow(difference_23)\n",
    "ax[2].set_title('Difference 2 3')"
   ]
  },
  {
   "cell_type": "markdown",
   "id": "24d8a12e-3526-461a-b658-89f0c6b1e46a",
   "metadata": {},
   "source": [
    "### Prepare the final ground truth image"
   ]
  },
  {
   "cell_type": "code",
   "execution_count": 83,
   "id": "e772502a-e6e9-4b59-915a-81bf3020a747",
   "metadata": {},
   "outputs": [
    {
     "name": "stderr",
     "output_type": "stream",
     "text": [
      "WARNING:hyperspy.drawing.utils:Axes labels were requested, but one or both of the axes units and/or name are undefined. Axes decorations have been set to 'ticks' instead.\n"
     ]
    },
    {
     "data": {
      "text/plain": [
       "[<AxesSubplot:title={'center':' (0,)'}>,\n",
       " <AxesSubplot:title={'center':' (1,)'}>,\n",
       " <AxesSubplot:title={'center':' (2,)'}>]"
      ]
     },
     "execution_count": 83,
     "metadata": {},
     "output_type": "execute_result"
    }
   ],
   "source": [
    "gts = hs.signals.Signal2D([ground_truth_1.data, ground_truth_2.data, ground_truth_3.data])\n",
    "\n",
    "hs.utils.plot.plot_images(gts)"
   ]
  },
  {
   "cell_type": "code",
   "execution_count": 37,
   "id": "a51c9574-c433-451d-b140-56f80471ce0e",
   "metadata": {},
   "outputs": [
    {
     "data": {
      "text/plain": [
       "<matplotlib.image.AxesImage at 0x23f94595608>"
      ]
     },
     "execution_count": 37,
     "metadata": {},
     "output_type": "execute_result"
    }
   ],
   "source": [
    "ground_truth = np.zeros_like(ground_truth_1.data)\n",
    "for i in range(ground_truth_1.data.shape[0]):\n",
    "    for j in range(ground_truth_1.data.shape[1]):\n",
    "        if ground_truth_1.data[i,j] == ground_truth_2.data[i,j]: \n",
    "            ground_truth[i,j] = ground_truth_1.data[i,j]\n",
    "        if ground_truth_1.data[i,j] == ground_truth_3.data[i,j]:\n",
    "            ground_truth[i,j] = ground_truth_1.data[i,j]\n",
    "        if ground_truth_2.data[i,j] == ground_truth_3.data[i,j]:\n",
    "            ground_truth[i,j] = ground_truth_3.data[i,j]\n",
    "        if ground_truth_1.data[i,j] != ground_truth_2.data[i,j] and ground_truth_1.data[i,j] != ground_truth_3.data[i,j] and ground_truth_2.data[i,j] != ground_truth_3.data[i,j]:\n",
    "            ground_truth[i,j] = 4\n",
    "plt.imshow(ground_truth)"
   ]
  },
  {
   "cell_type": "code",
   "execution_count": 38,
   "id": "e77738e6-9cd0-4d32-a743-33e62cf5042c",
   "metadata": {},
   "outputs": [
    {
     "data": {
      "text/plain": [
       "<matplotlib.image.AxesImage at 0x23f945eb908>"
      ]
     },
     "execution_count": 38,
     "metadata": {},
     "output_type": "execute_result"
    }
   ],
   "source": [
    "from matplotlib.colors import to_rgba\n",
    "from matplotlib.colors import LinearSegmentedColormap\n",
    "\n",
    "color_names = ['linen', 'darkorange', 'dodgerblue', 'forestgreen', 'red']\n",
    "colors = [to_rgba(c) for c in color_names]\n",
    "\n",
    "cmap = LinearSegmentedColormap.from_list('gt_cmap', colors, N=len(color_names))\n",
    "\n",
    "plt.figure()\n",
    "plt.imshow(ground_truth.data, cmap=cmap)"
   ]
  },
  {
   "cell_type": "code",
   "execution_count": 71,
   "id": "4ac48a11-f85b-461c-afc1-dfe27a85c145",
   "metadata": {},
   "outputs": [],
   "source": [
    "ground_truth = hs.signals.BaseSignal(ground_truth)\n",
    "ground_truth.axes_manager = ground_truth_1.axes_manager.deepcopy()"
   ]
  },
  {
   "cell_type": "code",
   "execution_count": 87,
   "id": "8a2eb680-43e9-4743-9b31-ab44d19379d5",
   "metadata": {},
   "outputs": [],
   "source": [
    "from matplotlib_scalebar.scalebar import ScaleBar\n",
    "scalebar = ScaleBar(4.63, 'nm', location = 'lower left')\n",
    "\n",
    "from matplotlib.cm import ScalarMappable\n",
    "from matplotlib.colors import Normalize\n",
    "\n",
    "fg_color = 'white'\n",
    "bg_color = 'black'\n",
    "\n",
    "cmappable = ScalarMappable(norm=Normalize(0,1), cmap=cmap)\n",
    "#cmappable.set_array([lower-deltac, upper+deltac])\n",
    "\n",
    "fig,ax = plt.subplots()\n",
    "ax.axis('off')\n",
    "ax.imshow(ground_truth, cmap=cmap)\n",
    "ax.add_artist(scalebar)\n",
    "#ax.legend(['Al', 'Theta edge on', 'Theta face on', 'T1'])\n",
    "cbar = plt.colorbar(cmappable)\n",
    "\n",
    "tick_locs = ((np.arange(N) + 0.5))/N\n",
    "cbar.set_ticks(tick_locs)\n",
    "\n",
    "cbar.ax.set_yticklabels(['Al', r'$\\theta$ edge on', r'$\\theta$ face on', 'T1', 'Not indexed'])\n",
    "\n",
    "plt.setp(plt.getp(cbar.ax.axes, 'yticklabels'), color=fg_color, fontsize=8)\n",
    "\n",
    "plt.show()\n",
    "plt.savefig(directory + 'Ground_truth_all.png', transparent = True, bbox_inches = 'tight', pad_inches = 0, dpi=600)\n",
    "ground_truth.save(directory + 'Ground_truth_all.hdf5')"
   ]
  }
 ],
 "metadata": {
  "kernelspec": {
   "display_name": "Python 3 (ipykernel)",
   "language": "python",
   "name": "python3"
  },
  "language_info": {
   "codemirror_mode": {
    "name": "ipython",
    "version": 3
   },
   "file_extension": ".py",
   "mimetype": "text/x-python",
   "name": "python",
   "nbconvert_exporter": "python",
   "pygments_lexer": "ipython3",
   "version": "3.8.13"
  },
  "vscode": {
   "interpreter": {
    "hash": "223e676380d4df3d50271949191e69bd32ffbc661fbf2cd3a37d125a87fc0e0c"
   }
  }
 },
 "nbformat": 4,
 "nbformat_minor": 5
}
