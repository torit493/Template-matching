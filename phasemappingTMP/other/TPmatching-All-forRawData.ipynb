{
 "cells": [
  {
   "cell_type": "markdown",
   "id": "e39c6241",
   "metadata": {},
   "source": [
    "# Template matching 2xxx SPED dataset"
   ]
  },
  {
   "cell_type": "code",
   "execution_count": 1,
   "id": "74e8a671",
   "metadata": {},
   "outputs": [
    {
     "name": "stderr",
     "output_type": "stream",
     "text": [
      "WARNING:silx.opencl.common:Unable to import pyOpenCl. Please install it from: https://pypi.org/project/pyopencl\n"
     ]
    }
   ],
   "source": [
    "%matplotlib qt5\n",
    "\n",
    "import numpy as np\n",
    "import matplotlib.pyplot as plt\n",
    "import hyperspy.api as hs\n",
    "import pyxem as pxm\n",
    "\n",
    "import diffpy\n",
    "from diffsims.libraries.structure_library import StructureLibrary\n",
    "from diffsims.generators.diffraction_generator import DiffractionGenerator\n",
    "from diffsims.generators.library_generator import DiffractionLibraryGenerator\n",
    "from diffsims.generators.rotation_list_generators import get_beam_directions_grid\n",
    "\n",
    "from pyxem.utils import indexation_utils as iutls\n",
    "from pyxem.utils import plotting_utils as putls\n",
    "from pyxem.utils import polar_transform_utils as ptutls\n",
    "from pyxem.utils import expt_utils as eutls\n",
    "from pyxem.utils.plotting_utils import plot_template_over_pattern\n",
    "\n",
    "import matplotlib.colors as mcolors\n",
    "from orix.projections import StereographicProjection\n",
    "from orix import plot, sampling\n",
    "from orix.crystal_map import CrystalMap, Phase, PhaseList\n",
    "from orix.quaternion import Orientation, Rotation, symmetry\n",
    "from orix.vector import Vector3d, Miller\n",
    "from orix.io import load, save\n",
    "from orix.projections import StereographicProjection\n",
    "from orix.vector.vector3d import Vector3d\n"
   ]
  },
  {
   "cell_type": "code",
   "execution_count": 2,
   "id": "d992dfac",
   "metadata": {},
   "outputs": [],
   "source": [
    "file = r'D:\\Template Matching\\Elisabeth paper\\SPED_600x600x12_10x10_4p63x4p63_1deg_100Hz_CL12cm_NBD_alpha5_spot1p3_preprocessed.hspy'\n",
    "\n",
    "experimental_data = hs.load(file)\n",
    "experimental_data.set_signal_type('electron_diffraction')"
   ]
  },
  {
   "cell_type": "code",
   "execution_count": 3,
   "id": "645a5a79",
   "metadata": {},
   "outputs": [],
   "source": [
    "#experimental_data = experimental_data.inav[350:450, 100:200]"
   ]
  },
  {
   "cell_type": "code",
   "execution_count": 4,
   "id": "9b0cf65a",
   "metadata": {},
   "outputs": [],
   "source": [
    "#experimental_data.plot(cmap='magma_r', norm='symlog')"
   ]
  },
  {
   "cell_type": "markdown",
   "id": "769b627d",
   "metadata": {},
   "source": [
    "## Important to get correct maximum_excitation_error s"
   ]
  },
  {
   "cell_type": "code",
   "execution_count": 5,
   "id": "e81f645a",
   "metadata": {},
   "outputs": [],
   "source": [
    "minimum_intensity = 1E-20 # min intensity included in simulations\n",
    "shift = 0.001             # shift used in transform func for template matching"
   ]
  },
  {
   "cell_type": "code",
   "execution_count": 6,
   "id": "906691cf",
   "metadata": {},
   "outputs": [],
   "source": [
    "s_Al    = 0.07\n",
    "s_Th100 = 0.22\n",
    "s_Th001 = 0.016\n",
    "s_T1    = 0.022\n",
    "s_list = [s_Al, s_Th100, s_Th001, s_T1]\n"
   ]
  },
  {
   "cell_type": "markdown",
   "id": "e813468c",
   "metadata": {},
   "source": [
    "# 1) Get rotations to simulate DPs at and create structure library of phases"
   ]
  },
  {
   "cell_type": "markdown",
   "id": "2cd0397a",
   "metadata": {},
   "source": [
    "### Importing structures and giving appropriate phase names"
   ]
  },
  {
   "cell_type": "code",
   "execution_count": 7,
   "id": "a4c9c260",
   "metadata": {},
   "outputs": [],
   "source": [
    "# Importing structures\n",
    "structure_Al   = diffpy.structure.loadStructure('Al_a5p04.cif')\n",
    "structure_Theta= diffpy.structure.loadStructure('thetaprime.cif')\n",
    "structure_T1   = diffpy.structure.loadStructure('T1-a_Al-4p04.cif')\n",
    "\n",
    "# List of phase names:\n",
    "phases         = ['Al', 'ThetaPrime100', 'ThetaPrime001', 'T1']\n",
    "\n",
    "# List of structures:\n",
    "structures = [structure_Al, structure_Theta, structure_Theta, structure_T1]"
   ]
  },
  {
   "cell_type": "markdown",
   "id": "ab9b6417",
   "metadata": {},
   "source": [
    "### A tilt limiting finction"
   ]
  },
  {
   "cell_type": "code",
   "execution_count": 8,
   "id": "fc2282c3",
   "metadata": {},
   "outputs": [],
   "source": [
    "def _new_structure_matrix_from_alignment(old_matrix, x=None, y=None, z=None):\n",
    "    \"\"\"Taken from orix v0.9, see\n",
    "    https://github.com/pyxem/orix/blob/fb269b0456163aa3ac1f80498a9894c53953dccb/orix/crystal_map/phase_list.py#L794-L845.\n",
    "    \n",
    "    Explanation of why changing the structure matrix (base) to use orix with\n",
    "    ReciPro, which uses another alignment, is needed:\n",
    "    https://orix.readthedocs.io/en/stable/crystal_reference_frame.html.\n",
    "    \"\"\"\n",
    "    if sum([i is None for i in [x, y, z]]) > 1:\n",
    "        raise ValueError(\"At least two of x, y, z must be set.\")\n",
    "\n",
    "    # Old direct lattice base (row) vectors in Cartesian coordinates\n",
    "    old_matrix = Vector3d(old_matrix)\n",
    "    ad, bd, cd = old_matrix.unit\n",
    "\n",
    "    # Old reciprocal lattice base vectors in cartesian coordinates\n",
    "    ar = bd.cross(cd).unit\n",
    "    br = cd.cross(ad).unit\n",
    "    cr = ad.cross(bd).unit\n",
    "\n",
    "    # New unit crystal base\n",
    "    new_vectors = Vector3d.zero((3,))\n",
    "    axes_mapping = {\"a\": ad, \"b\": bd, \"c\": cd, \"a*\": ar, \"b*\": br, \"c*\": cr}\n",
    "    for i, al in enumerate([x, y, z]):\n",
    "        if al in axes_mapping.keys():\n",
    "            new_vectors[i] = axes_mapping[al]\n",
    "    other_idx = {0: (1, 2), 1: (2, 0), 2: (0, 1)}\n",
    "    for i in range(3):\n",
    "        if np.isclose(new_vectors[i].norm, 0):\n",
    "            other0, other1 = other_idx[i]\n",
    "            new_vectors[i] = new_vectors[other0].cross(new_vectors[other1])\n",
    "\n",
    "    # New crystal base\n",
    "    new_matrix = new_vectors.dot(old_matrix.reshape(3, 1)).round(12)\n",
    "\n",
    "    return new_matrix\n",
    "\n",
    "#Defining a function that returns the tilt range of interest around a given zone axis for a given structure:\n",
    "def get_tilt_range_around_zone(phase_object, zone_axis, euler_grid, max_tilt):\n",
    "    '''\n",
    "    phase_object : Orix phase object (Ex. Phase(name='T1', space_group=191, structure=T1_structure))\n",
    "    zone_axis : The zone axis you want to rotate about\n",
    "    euler_grid : the total rotation grid needed to describe whole crystal\n",
    "    max_tilt : The maximum angle deviation from zone axis to be included\n",
    "    '''\n",
    "    # Input\n",
    "    uvw = zone_axis\n",
    "    phase = phase_object.deepcopy()\n",
    "    \n",
    "    # Change structure matrix (crystal lattice base)\n",
    "    # NB! Use with care, since orix assumes another alignment, e1||a, e3||c*!\n",
    "    lat = phase.structure.lattice\n",
    "    new_base = _new_structure_matrix_from_alignment(lat.base, x=\"a*\", z=\"c\")\n",
    "    lat.setLatBase(new_base)\n",
    "        \n",
    "    # Sample grid\n",
    "    g_grid = Rotation.from_euler(np.deg2rad(euler_grid))\n",
    "\n",
    "    # Rotate Zs (optic axis) into *cartesian* crystal coordinates\n",
    "    rz = Vector3d.zvector()\n",
    "    hz = g_grid * rz\n",
    "\n",
    "    # Cartesian crystal coordinates in Miller indices <uvw> (unit cell coordinates)\n",
    "    hz_miller = Miller(xyz=hz.data, phase=phase)\n",
    "    hz_miller.coordinate_format = \"uvw\"\n",
    "\n",
    "    # Rotate into fundamental sector defined in orix\n",
    "    hz_miller = hz_miller.in_fundamental_sector()\n",
    "\n",
    "    # Define zone axis and symmetrically equivalent directions\n",
    "    za = Miller(uvw=uvw, phase=phase)\n",
    "    za2 = za.symmetrise(unique=True)\n",
    "\n",
    "    # Get disorientation angle (smallest misorientation angle under symmetry)\n",
    "    hz_miller2 = hz_miller.reshape(hz_miller.size, 1)\n",
    "    za2 = za2.reshape(1, za2.size)\n",
    "    all_angles = za2.angle_with(hz_miller2)\n",
    "    angles = all_angles.min(axis=1)\n",
    "\n",
    "    # Get orientations within threshold\n",
    "    mask = angles <= np.deg2rad(threshold)\n",
    "    masked_euler_grid = euler_grid[mask]\n",
    "    \n",
    "    if False:\n",
    "        fig = plt.figure()\n",
    "        ax = fig.add_subplot(projection=\"ipf\", symmetry=phase.point_group)\n",
    "        ax.scatter(hz_miller, c=angles)\n",
    "        ax.scatter(hz_miller[mask], c=\"w\", ec=\"k\")\n",
    "        fig.tight_layout()\n",
    "#        fig = hz_miller.scatter(\n",
    "#        hemisphere=\"both\",\n",
    "#        c=angles,\n",
    "#        axes_labels=[\"Xc\", \"Yc\"],\n",
    "#        return_figure=True,\n",
    "#        figure_kwargs=dict(figsize=(15, 15)),\n",
    "#        )\n",
    "#        fig.tight_layout()\n",
    "    \n",
    "    return masked_euler_grid"
   ]
  },
  {
   "cell_type": "markdown",
   "id": "ae0c5660",
   "metadata": {},
   "source": [
    "### Getting rotation lists for the different symmetries"
   ]
  },
  {
   "cell_type": "code",
   "execution_count": 9,
   "id": "8bebeeb2",
   "metadata": {},
   "outputs": [
    {
     "name": "stdout",
     "output_type": "stream",
     "text": [
      "Number of patterns \n",
      "cubic:  4186 \n",
      "tetra: 12376 \n",
      "hex: 16209\n"
     ]
    },
    {
     "name": "stderr",
     "output_type": "stream",
     "text": [
      "c:\\Users\\torit\\Anaconda3\\envs\\hyperspy_latest\\lib\\site-packages\\diffsims\\generators\\sphere_mesh_generators.py:515: RuntimeWarning: invalid value encountered in true_divide\n",
      "  phi2 = sign * np.nan_to_num(np.arccos(x_comp / norm_proj))\n"
     ]
    }
   ],
   "source": [
    "resolution = 0.5 # maximum angle in degrees between nearest templates. Pretty rough grid for speed.\n",
    "\n",
    "cubic_grid = get_beam_directions_grid(\"cubic\", resolution, mesh=\"spherified_cube_edge\") #Al\n",
    "hex_grid   = get_beam_directions_grid(\"hexagonal\", resolution, mesh=\"spherified_cube_edge\") #T1\n",
    "tetra_grid = get_beam_directions_grid(\"tetragonal\", resolution, mesh=\"spherified_cube_edge\") #theta\n",
    "\n",
    "print(\"Number of patterns \\ncubic: \", cubic_grid.shape[0], '\\ntetra:', tetra_grid.shape[0], '\\nhex:', hex_grid.shape[0])"
   ]
  },
  {
   "cell_type": "markdown",
   "id": "d574f15f",
   "metadata": {},
   "source": [
    "### Now limit the rotations within a threshold"
   ]
  },
  {
   "cell_type": "code",
   "execution_count": 10,
   "id": "75ab3492",
   "metadata": {},
   "outputs": [],
   "source": [
    "# Threshold value for tilts away from the possible precipitate orientations in degrees:\n",
    "threshold = 3"
   ]
  },
  {
   "cell_type": "markdown",
   "id": "7a98a820",
   "metadata": {},
   "source": [
    "### Al"
   ]
  },
  {
   "cell_type": "code",
   "execution_count": 11,
   "id": "9b96bce7",
   "metadata": {
    "scrolled": true
   },
   "outputs": [
    {
     "data": {
      "text/plain": [
       "20"
      ]
     },
     "execution_count": 11,
     "metadata": {},
     "output_type": "execute_result"
    }
   ],
   "source": [
    "# Create a phase object (orix) for a crystal structure and give the expected zone axis:\n",
    "uvw = [0, 0, 1]\n",
    "Al_phase = Phase(name='Al', space_group=225, structure=structure_Al)\n",
    "\n",
    "# Limit tilt range to orientations around zone axis to the threshold value:\n",
    "Al_grid_masked_001 = get_tilt_range_around_zone(Al_phase, uvw, cubic_grid, threshold)\n",
    "Al_grid_masked_001.size//3"
   ]
  },
  {
   "cell_type": "markdown",
   "id": "a3c805cb",
   "metadata": {},
   "source": [
    "### Theta Prime"
   ]
  },
  {
   "cell_type": "code",
   "execution_count": 12,
   "id": "89946e39",
   "metadata": {},
   "outputs": [
    {
     "name": "stdout",
     "output_type": "stream",
     "text": [
      "20\n",
      "35\n"
     ]
    }
   ],
   "source": [
    "# Create a phase object (orix) for a crystal structure and give the expected zone axis:\n",
    "uvw_001 = [0, 0, 1]\n",
    "uvw_100 = [1, 0, 0]\n",
    "ThetaPrime_phase = Phase(name='ThetaPrime', space_group=119, structure=structure_Theta)\n",
    "\n",
    "# Limit tilt range to orientations around zone axis to the threshold value:\n",
    "ThetaPrime_grid_masked_001 = get_tilt_range_around_zone(ThetaPrime_phase, uvw_001, tetra_grid, threshold)\n",
    "ThetaPrime_grid_masked_100 = get_tilt_range_around_zone(ThetaPrime_phase, uvw_100, tetra_grid, threshold)\n",
    "print(ThetaPrime_grid_masked_001.size//3)\n",
    "print(ThetaPrime_grid_masked_100.size//3)"
   ]
  },
  {
   "cell_type": "markdown",
   "id": "af49648a",
   "metadata": {},
   "source": [
    "### T1"
   ]
  },
  {
   "cell_type": "code",
   "execution_count": 13,
   "id": "46b2084d",
   "metadata": {},
   "outputs": [
    {
     "data": {
      "text/plain": [
       "147"
      ]
     },
     "execution_count": 13,
     "metadata": {},
     "output_type": "execute_result"
    }
   ],
   "source": [
    "# Create a phase object (orix) for a crystal structure and give the expected zone axis:\n",
    "uvw_041 = [0,-4,1] #*421\n",
    "T1_phase = Phase(name='T1', space_group=191, structure=structure_T1)\n",
    "\n",
    "# Limit tilt range to orientations around zone axis to the threshold value:\n",
    "T1_grid_masked_041 = get_tilt_range_around_zone(T1_phase, uvw_041, hex_grid, threshold)\n",
    "T1_grid_masked_041.size//3"
   ]
  },
  {
   "cell_type": "markdown",
   "id": "8cce81fd",
   "metadata": {},
   "source": [
    "## Create a structure library"
   ]
  },
  {
   "cell_type": "code",
   "execution_count": 14,
   "id": "6b19b6a4",
   "metadata": {},
   "outputs": [],
   "source": [
    "# List of rotations:\n",
    "rot_grids = [Al_grid_masked_001, ThetaPrime_grid_masked_100, ThetaPrime_grid_masked_001, T1_grid_masked_041]\n",
    "\n",
    "# Collect all in a structure library used to simulate our diffraction patterns:\n",
    "library_Al    = StructureLibrary([phases[0]], [structures[0]], [rot_grids[0]])\n",
    "library_Th100 = StructureLibrary([phases[1]], [structures[1]], [rot_grids[1]])\n",
    "library_Th001 = StructureLibrary([phases[2]], [structures[2]], [rot_grids[2]])\n",
    "library_T1    = StructureLibrary([phases[3]], [structures[3]], [rot_grids[3]])\n",
    "library_phases = [library_Al, library_Th100, library_Th001, library_T1]"
   ]
  },
  {
   "cell_type": "markdown",
   "id": "1bc343b7",
   "metadata": {},
   "source": [
    "# 2) Prepare microscope for simulations and create diffraction library"
   ]
  },
  {
   "cell_type": "markdown",
   "id": "1f7d41c1",
   "metadata": {},
   "source": [
    "### \"Turn on the microscope\""
   ]
  },
  {
   "cell_type": "code",
   "execution_count": 15,
   "id": "7e2db366",
   "metadata": {},
   "outputs": [],
   "source": [
    "diff_gen = DiffractionGenerator(accelerating_voltage=200,\n",
    "                                precession_angle=0,\n",
    "                                shape_factor_model=\"linear\",\n",
    "                                #scattering_params=None,\n",
    "                                minimum_intensity=minimum_intensity,\n",
    "                                )\n",
    "\n",
    "lib_gen = DiffractionLibraryGenerator(diff_gen)"
   ]
  },
  {
   "cell_type": "markdown",
   "id": "a8be2944",
   "metadata": {},
   "source": [
    "### And then simulate library for given s with resolution as set earlier"
   ]
  },
  {
   "cell_type": "code",
   "execution_count": 16,
   "id": "a3279ff9",
   "metadata": {},
   "outputs": [
    {
     "name": "stdout",
     "output_type": "stream",
     "text": [
      "1.723304078565359\n"
     ]
    },
    {
     "name": "stderr",
     "output_type": "stream",
     "text": [
      "                                                  \r"
     ]
    },
    {
     "data": {
      "text/plain": [
       "dict_keys(['Al', 'ThetaPrime100', 'ThetaPrime001', 'T1'])"
      ]
     },
     "execution_count": 16,
     "metadata": {},
     "output_type": "execute_result"
    }
   ],
   "source": [
    "# half size of the images\n",
    "half_shape = (experimental_data.data.shape[-2]//2, experimental_data.data.shape[-1]//2)\n",
    "\n",
    "diffraction_calibration = experimental_data.axes_manager[2].scale\n",
    "# maximum radius in reciprocal space to calculate spot intensities for\n",
    "reciprocal_radius = np.sqrt(half_shape[0]**2 + half_shape[1]**2)*diffraction_calibration\n",
    "print(reciprocal_radius)\n",
    "# Calculate the simulated DP library\n",
    "from diffsims.libraries.diffraction_library import DiffractionLibrary\n",
    "\n",
    "diff_lib_full = DiffractionLibrary()\n",
    "for i, s in enumerate(s_list):\n",
    "    # Calculate the simulated DP library\n",
    "    diff_lib_full[phases[i]] = lib_gen.get_diffraction_library(library_phases[i],\n",
    "                                            calibration=diffraction_calibration,\n",
    "                                            reciprocal_radius=reciprocal_radius,\n",
    "                                            half_shape=half_shape,\n",
    "                                            with_direct_beam=False,\n",
    "                                            max_excitation_error=s)[phases[i]] # As given earlier\n",
    "diff_lib = diff_lib_full\n",
    "diff_lib.keys() # This shows you which phases you have, can then access diff_lib['key'].keys() and so on..."
   ]
  },
  {
   "cell_type": "markdown",
   "id": "b45f6fab",
   "metadata": {},
   "source": [
    "### Can check random simulation (And see if ZOLZ included when s too low)"
   ]
  },
  {
   "cell_type": "code",
   "execution_count": 17,
   "id": "9cc36aff",
   "metadata": {},
   "outputs": [
    {
     "name": "stdout",
     "output_type": "stream",
     "text": [
      "['Al', 'ThetaPrime100', 'ThetaPrime001', 'T1']\n"
     ]
    }
   ],
   "source": [
    "print(phases)\n",
    "if(True):\n",
    "    diff_lib[phases[0]]['simulations'][0].plot()\n",
    "    diff_lib[phases[1]]['simulations'][0].plot()\n",
    "    diff_lib[phases[2]]['simulations'][0].plot()\n",
    "    diff_lib[phases[3]]['simulations'][0].plot()"
   ]
  },
  {
   "cell_type": "markdown",
   "id": "76e4a627",
   "metadata": {},
   "source": [
    "# 3) Do template matching"
   ]
  },
  {
   "cell_type": "code",
   "execution_count": 18,
   "id": "988ff09f",
   "metadata": {},
   "outputs": [
    {
     "name": "stdout",
     "output_type": "stream",
     "text": [
      "0.001\n"
     ]
    }
   ],
   "source": [
    "# log shift function used in template matching, small shift amplifies weak reflection (but also noise...)\n",
    "print(shift)\n",
    "def log_shift(raw):\n",
    "    ''''\n",
    "    Parameters\n",
    "    -------\n",
    "    raw : np.array((128, 128)). The raw data.\n",
    "    shift : float. Introduces a shift for the log. To account for pixels with 0 value.\n",
    "    \n",
    "    Returns\n",
    "    -------\n",
    "    log_shift : np.array((128,128)). The log of the raw data.\n",
    "    '''\n",
    "    \n",
    "    log_shift = np.log10(raw+shift) - np.log10(shift)# - 0.1\n",
    "    return log_shift\n",
    "\n",
    "    # or we can do a gamma correction rather\n",
    "def gamma_corr(image):\n",
    "    copied = image.copy()\n",
    "    copied = copied**0.5\n",
    "    return copied"
   ]
  },
  {
   "cell_type": "code",
   "execution_count": 19,
   "id": "699881d9",
   "metadata": {},
   "outputs": [
    {
     "name": "stdout",
     "output_type": "stream",
     "text": [
      "[########################################] | 100% Completed | 36min 49.4s\n"
     ]
    }
   ],
   "source": [
    "# Parameters for matching:\n",
    "delta_r = 1                         # res in inkreasing k value \n",
    "delta_theta = 1                     # res in rotation basically, azimuthal angle\n",
    "max_r = experimental_data.axes_manager[2].size//2  # Max k to check IN PIXELS, Default (None) is from center of DP to corner.\n",
    "intensity_transform_function = log_shift           # Function to apply to both image and template intensities on an element by element basis prior to comparison. Note that the function is performed on the CPU.\n",
    "find_direct_beam     = False        # Lets try first without doing this as its kind of a pre processing thing...\n",
    "direct_beam_position = None         # I think that: if find_dir_beam True and this none it automatically finds it \n",
    "normalize_image      = True         # Normalize the images in the correlation coefficient calculation\n",
    "normalize_templates  = True         # Normalize the templates in the correlation coefficient calculation\n",
    "frac_keep = 1 \n",
    "n_keep    = None                    # Not sure what i ought to have here... look into this\n",
    "n_best    = 5                       # keeping 5 best matches\n",
    "\n",
    "result, phasedict = iutls.index_dataset_with_template_rotation(experimental_data,\n",
    "                                                                diff_lib,\n",
    "                                                                n_best                       = n_best,\n",
    "                                                                frac_keep                    = frac_keep,\n",
    "                                                                n_keep                       = n_keep,\n",
    "                                                                delta_r                      = delta_r,\n",
    "                                                                delta_theta                  = delta_theta,\n",
    "                                                                max_r                        = max_r,\n",
    "                                                                intensity_transform_function = intensity_transform_function,\n",
    "                                                                normalize_images             = normalize_image,\n",
    "                                                                normalize_templates          = normalize_templates,\n",
    "                                                                )"
   ]
  },
  {
   "cell_type": "markdown",
   "id": "72e28e6d",
   "metadata": {},
   "source": [
    "### Can now get a phase map"
   ]
  },
  {
   "cell_type": "code",
   "execution_count": 20,
   "id": "7d1c420e",
   "metadata": {},
   "outputs": [
    {
     "name": "stdout",
     "output_type": "stream",
     "text": [
      "{0: 'Al', 1: 'ThetaPrime100', 2: 'ThetaPrime001', 3: 'T1'}\n",
      "\n",
      "Used: \n",
      "s = 0.022 \n",
      "shift = 0.001 \n",
      "min intensity = 1e-20\n"
     ]
    }
   ],
   "source": [
    "# Creating custom colormap for phases:\n",
    "from matplotlib.colors import to_rgba\n",
    "from matplotlib.colors import LinearSegmentedColormap\n",
    "\n",
    "color_names = ['linen', 'darkorange', 'dodgerblue', 'forestgreen']\n",
    "colors = [to_rgba(c) for c in color_names]\n",
    "\n",
    "cmap = LinearSegmentedColormap.from_list('gt_cmap', colors, N=len(color_names))\n",
    "\n",
    "# Making a dataset with the phase indexes found:\n",
    "phase_map = hs.signals.BaseSignal(result['phase_index'][:,:,0])\n",
    "\n",
    "# Plot phase map with our cmap above:\n",
    "experimental_data.plot(navigator=phase_map, \n",
    "                       norm='symlog', \n",
    "                       cmap='magma', \n",
    "                       navigator_kwds=dict(colorbar=True, cmap=cmap)\n",
    "                      )\n",
    "# Print the phase correspinding to numbers in phase map:\n",
    "print(phasedict)\n",
    "print('\\nUsed: \\ns =', s, '\\nshift =', shift, '\\nmin intensity =', minimum_intensity)"
   ]
  },
  {
   "cell_type": "code",
   "execution_count": 34,
   "id": "7f751e7f",
   "metadata": {},
   "outputs": [
    {
     "name": "stdout",
     "output_type": "stream",
     "text": [
      "1.76%\n"
     ]
    }
   ],
   "source": [
    "#phase_map = hs.load('phaseMap_Almasked_DoG_shift_w_subtr0p05_indivS.hdf5')\n",
    "phase_map = hs.load('phaseMap_Almasked_DoG_shift_w_subtr0p05_indivS.hdf5')\n",
    "ground_truth = hs.load('Ground_truth_all.hdf5')\n",
    "\n",
    "diff = phase_map - ground_truth\n",
    "diff = np.array(diff, dtype='bool')\n",
    "plt.figure()\n",
    "plt.imshow(diff, cmap='gray')\n",
    "plt.axis('off')\n",
    "#plt.savefig('Difference_map_peaks_s0p023.png')\n",
    "\n",
    "diff_map = hs.signals.BaseSignal(diff)\n",
    "#diff_map.save('Difference_map_S8.hdf5')\n",
    "\n",
    "error = np.count_nonzero(np.abs((phase_map-ground_truth.data)))/(512*512)\n",
    "print(f'{error:.2%}')"
   ]
  },
  {
   "cell_type": "code",
   "execution_count": 36,
   "id": "44d1d19a",
   "metadata": {},
   "outputs": [],
   "source": [
    "fig, ax = plt.subplots()\n",
    "ax.imshow(phase_map, cmap=cmap)\n",
    "ax.axis('off')\n",
    "#plt.savefig('phasemap_DoGmasked',  transparent=True, bbox_inches='tight', pad_inches=0, dpi=300)\n",
    "#plt.savefig(dir + filnavn, transparent=True, bbox_inches='tight', pad_inches=0, dpi=300)"
   ]
  },
  {
   "cell_type": "code",
   "execution_count": 26,
   "id": "d0543caf",
   "metadata": {},
   "outputs": [],
   "source": [
    "phase_map.save('phasemap_raw_S8.hdf5')\n",
    "diff_map.save('diffmap_raw_S8.hdf5')"
   ]
  },
  {
   "cell_type": "code",
   "execution_count": 23,
   "id": "2a241fed",
   "metadata": {},
   "outputs": [
    {
     "name": "stdout",
     "output_type": "stream",
     "text": [
      "[[0.04909621 0.05034316 0.05080305 ... 0.04574449 0.04560146 0.04578072]\n",
      " [0.04998801 0.05046719 0.05094641 ... 0.04545602 0.04543443 0.04579739]\n",
      " [0.05006605 0.05055881 0.05057929 ... 0.04577555 0.04572659 0.04567333]\n",
      " ...\n",
      " [0.04997284 0.05030674 0.05037801 ... 0.0510587  0.05092442 0.05104286]\n",
      " [0.0495874  0.04990137 0.05042325 ... 0.05116148 0.05116171 0.05101952]\n",
      " [0.04958849 0.04997083 0.05022321 ... 0.05114369 0.05126114 0.05126593]]\n"
     ]
    }
   ],
   "source": [
    "corr_map = hs.signals.BaseSignal(result['correlation'][:,:,0])\n",
    "\n",
    "Al_mask = corr_map > 0.06\n",
    "\n",
    "phase_map_corr = phase_map*Al_mask\n",
    "\n",
    "corr_map.plot(cmap='viridis')\n",
    "phase_map_corr.plot()\n",
    "\n",
    "print(corr_map.data)"
   ]
  },
  {
   "cell_type": "markdown",
   "id": "daa53f09",
   "metadata": {},
   "source": [
    "# Can plot the matched sim on DP"
   ]
  },
  {
   "cell_type": "code",
   "execution_count": null,
   "id": "b3e29180",
   "metadata": {},
   "outputs": [
    {
     "name": "stdout",
     "output_type": "stream",
     "text": [
      "Orientation of ( 25 , 60 ) is [960.   0.  90.]\n",
      "in_plane_angle = 960.0\n",
      "ThetaPrime001\n",
      "[ 0.  0. 90.]\n"
     ]
    },
    {
     "name": "stderr",
     "output_type": "stream",
     "text": [
      "C:\\Users\\torit\\AppData\\Local\\Temp\\ipykernel_3776\\2651187450.py:35: RuntimeWarning: divide by zero encountered in log10\n",
      "  return np.log10(raw)\n"
     ]
    },
    {
     "name": "stdout",
     "output_type": "stream",
     "text": [
      "[########################################] | 100% Completed |  0.1s\n"
     ]
    },
    {
     "name": "stderr",
     "output_type": "stream",
     "text": [
      "C:\\Users\\torit\\AppData\\Local\\Temp\\ipykernel_3776\\2651187450.py:35: RuntimeWarning: divide by zero encountered in log10\n",
      "  return np.log10(raw)\n"
     ]
    }
   ],
   "source": [
    "px = 25\n",
    "py = 60\n",
    "n_sol = 0\n",
    "\n",
    "solution = result[\"orientation\"]\n",
    "# Query the necessary info from the solution\n",
    "sim_sol_index = result[\"template_index\"][py, px, n_sol]   # Collects (py,px) in solution map n\n",
    "mirrored_sol = result[\"mirrored_template\"][py, px, n_sol] # mirrored template represents whether the original template best fits (False) or the mirror image (True)\n",
    "in_plane_angle = solution[py, px, n_sol, 0] # Orientations, the first angle is the in plane angle\n",
    "#in_plane_angle = np.deg2rad(in_plane_angle)\n",
    "print('Orientation of (', px,',', py, ')','is', solution[py, px, n_sol])\n",
    "print('in_plane_angle =', in_plane_angle)\n",
    "\n",
    "\n",
    "# Query the appropriate template:\n",
    "\n",
    "found_phase = phases[result['phase_index'][py, px, n_sol]]\n",
    "print(found_phase)\n",
    "\n",
    "used_sim = diff_lib[found_phase][\"simulations\"][sim_sol_index]  # Collects the simulation fitted from template match\n",
    "used_sim.plot()\n",
    "print(diff_lib[found_phase][\"orientations\"][sim_sol_index])\n",
    "fig, ax = plt.subplots(ncols=2, figsize=(8, 4))\n",
    "\n",
    "# plotting phase map and the point we chose\n",
    "ax[0].imshow(phase_map, cmap=cmap)\n",
    "ax[0].scatter([px], [py], c=\"r\", marker='x', s=200)\n",
    "\n",
    "def log_norm(raw):\n",
    "    raw.data *= 1 / raw.data.max()\n",
    "    return np.log10(raw)\n",
    "\n",
    "# LOG NORMED PATTERN:\n",
    "def log_norm(raw):\n",
    "    return np.log10(raw)\n",
    "pattern = experimental_data.inav[px,py]\n",
    "pattern.data *= 1/pattern.data.max()\n",
    "pattern_log = pattern.map(log_norm, inplace = False)\n",
    "plt.imshow(pattern_log, cmap='Greys')\n",
    "\n",
    "# plotting the diffraction pattern and template\n",
    "plot_template_over_pattern(pattern_log.data,   # DP at px, py\n",
    "                                 used_sim,                       # simulated pattern found to fit best for DP at px, py\n",
    "                                 ax=ax[1],                       # Optional, to get DP in same fig as correlation map\n",
    "                                 in_plane_angle = in_plane_angle,#\n",
    "                                 coordinate_system = \"cartesian\", \n",
    "                                 size_factor = 10,               # This only changes size of plotted X for DP spot marking, not real change\n",
    "                                 #vmax=0.01,                      # Binned dataset has very high intensities... should fix this...\n",
    "                                 mirrored_template=mirrored_sol,\n",
    "                                 find_direct_beam=False,         # Gets better when True, should improve pre-process centering...\n",
    "                                 cmap = \"Greys\",\n",
    "                                 marker_color = \"green\",\n",
    "                                 #direct_beam_position = (63,63)\n",
    "                                )\n",
    "for i in ax:\n",
    "    i.axis(\"off\")"
   ]
  },
  {
   "cell_type": "code",
   "execution_count": null,
   "id": "fc302485",
   "metadata": {},
   "outputs": [],
   "source": []
  }
 ],
 "metadata": {
  "kernelspec": {
   "display_name": "Python 3 (ipykernel)",
   "language": "python",
   "name": "python3"
  },
  "language_info": {
   "codemirror_mode": {
    "name": "ipython",
    "version": 3
   },
   "file_extension": ".py",
   "mimetype": "text/x-python",
   "name": "python",
   "nbconvert_exporter": "python",
   "pygments_lexer": "ipython3",
   "version": "3.8.13"
  },
  "vscode": {
   "interpreter": {
    "hash": "223e676380d4df3d50271949191e69bd32ffbc661fbf2cd3a37d125a87fc0e0c"
   }
  }
 },
 "nbformat": 4,
 "nbformat_minor": 5
}
